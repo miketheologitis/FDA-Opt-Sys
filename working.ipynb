{
 "cells": [
  {
   "cell_type": "code",
   "execution_count": 4,
   "id": "94dd75a5-26db-46f8-86b8-c15302776dd3",
   "metadata": {},
   "outputs": [],
   "source": [
    "from flwr.server import ServerApp\n",
    "from fdaopt.client import client_app"
   ]
  },
  {
   "cell_type": "code",
   "execution_count": null,
   "id": "7ed0fe14-ffdd-4203-b73c-e1e004ffea11",
   "metadata": {
    "collapsed": true,
    "jupyter": {
     "outputs_hidden": true
    },
    "tags": []
   },
   "outputs": [
    {
     "name": "stderr",
     "output_type": "stream",
     "text": [
      "\u001b[92mINFO \u001b[0m:      Starting Flower ServerApp, config: num_rounds=100, no round_timeout\n",
      "\u001b[92mINFO \u001b[0m:      \n",
      "\u001b[92mINFO \u001b[0m:      [INIT]\n",
      "\u001b[92mINFO \u001b[0m:      Using initial global parameters provided by strategy\n",
      "\u001b[92mINFO \u001b[0m:      Starting evaluation of initial global parameters\n",
      "\u001b[92mINFO \u001b[0m:      initial parameters (loss, other metrics): 0.7195841272672018, {'accuracy': 0.31862745098039214, 'f1': 0.060810810810810814, 'testing_loss': 0.7195841272672018}\n",
      "\u001b[92mINFO \u001b[0m:      \n",
      "\u001b[92mINFO \u001b[0m:      [ROUND 1]\n",
      "\u001b[92mINFO \u001b[0m:      configure_fit: strategy sampled 5 clients (out of 10)\n",
      "\u001b[92mINFO \u001b[0m:      aggregate_fit: received 5 results and 0 failures\n",
      "\u001b[93mWARNING \u001b[0m:   No fit_metrics_aggregation_fn provided\n",
      "\u001b[92mINFO \u001b[0m:      fit progress: (1, 3.426889260609945, {'accuracy': 0.3161764705882353, 'f1': 0.0, 'testing_loss': 3.426889260609945}, 45.01178526878357)\n",
      "\u001b[92mINFO \u001b[0m:      configure_evaluate: no clients selected, skipping evaluation\n",
      "\u001b[92mINFO \u001b[0m:      \n",
      "\u001b[92mINFO \u001b[0m:      [ROUND 2]\n",
      "\u001b[92mINFO \u001b[0m:      configure_fit: strategy sampled 5 clients (out of 10)\n",
      "\u001b[92mINFO \u001b[0m:      aggregate_fit: received 5 results and 0 failures\n",
      "\u001b[92mINFO \u001b[0m:      fit progress: (2, 1.7048353541131114, {'accuracy': 0.3161764705882353, 'f1': 0.0, 'testing_loss': 1.7048353541131114}, 57.32998952269554)\n",
      "\u001b[92mINFO \u001b[0m:      configure_evaluate: no clients selected, skipping evaluation\n",
      "\u001b[92mINFO \u001b[0m:      \n",
      "\u001b[92mINFO \u001b[0m:      [ROUND 3]\n",
      "\u001b[92mINFO \u001b[0m:      configure_fit: strategy sampled 5 clients (out of 10)\n"
     ]
    }
   ],
   "source": [
    "run_simulation(\n",
    "    server_app=server_app,\n",
    "    client_app=client_app,\n",
    "    num_supernodes=10,\n",
    ")"
   ]
  },
  {
   "cell_type": "code",
   "execution_count": null,
   "id": "5e4e528a-b576-4ee7-a8fb-35ab71d7cbeb",
   "metadata": {},
   "outputs": [],
   "source": []
  },
  {
   "cell_type": "code",
   "execution_count": null,
   "id": "32d67c4a-ab43-45a6-9a3a-137cfd4453eb",
   "metadata": {},
   "outputs": [],
   "source": []
  },
  {
   "cell_type": "code",
   "execution_count": null,
   "id": "d97e3042-dd2f-4de0-b1c1-9cea72df2424",
   "metadata": {},
   "outputs": [],
   "source": []
  },
  {
   "cell_type": "code",
   "execution_count": null,
   "id": "d1e39aa2-9bc3-4626-a86b-c3be7a55ae42",
   "metadata": {},
   "outputs": [],
   "source": []
  },
  {
   "cell_type": "code",
   "execution_count": null,
   "id": "87d3708b-fedb-4567-94c6-a8bd973d0475",
   "metadata": {},
   "outputs": [],
   "source": []
  },
  {
   "cell_type": "markdown",
   "id": "8e5bbe63-aace-4ec9-ba77-a631a3666fb4",
   "metadata": {
    "jp-MarkdownHeadingCollapsed": true,
    "tags": []
   },
   "source": [
    "# Start Server"
   ]
  },
  {
   "cell_type": "code",
   "execution_count": 10,
   "id": "b45000c4-f6fc-4e95-873d-636633fb31c1",
   "metadata": {
    "tags": []
   },
   "outputs": [],
   "source": [
    "\"\"\"fdaopt: A Flower / HuggingFace app.\"\"\"\n",
    "\n",
    "import torch\n",
    "\n",
    "from flwr.common import ndarrays_to_parameters\n",
    "from flwr.server import ServerApp, ServerAppComponents, ServerConfig\n",
    "from transformers import AutoModelForSequenceClassification\n",
    "\n",
    "from fdaopt.training import get_weights, get_evaluate_fn\n",
    "\n",
    "from fdaopt.parameters import load_parameters\n",
    "\n",
    "\n",
    "def get_strategy_class(strategy_name):\n",
    "    \"\"\"\n",
    "    Dynamically imports and returns the strategy class from flwr.server.strategy based on the given strategy name.\n",
    "\n",
    "    Args:\n",
    "        strategy_name (str): The name of the strategy class as a string.\n",
    "\n",
    "    Returns:\n",
    "        type: The strategy class from flwr.server.strategy\n",
    "    \"\"\"\n",
    "    import flwr.server.strategy as flwr_strat\n",
    "    \n",
    "    optimizer_class = getattr(flwr_strat, strategy_name)\n",
    "    return optimizer_class\n",
    "\n",
    "# 1. Load Parameters\n",
    "\n",
    "device = \"cuda\" if torch.cuda.is_available() else \"cpu\"\n",
    "\n",
    "params = load_parameters()\n",
    "\n",
    "total_rounds = params['training']['total_rounds']\n",
    "fraction_fit = params['training']['clients_per_round'] / params['training']['num_clients']\n",
    "\n",
    "model_checkpoint = params['model']['checkpoint']\n",
    "num_labels = params['model']['num_labels']\n",
    "\n",
    "ds_path = params['dataset']['path']\n",
    "ds_name = params['dataset']['name']\n",
    "\n",
    "\n",
    "model = AutoModelForSequenceClassification.from_pretrained(\n",
    "    model_checkpoint, num_labels=num_labels\n",
    ")\n",
    "\n",
    "strategy_name = params['server']['strategy']['name']\n",
    "\n",
    "weights = get_weights(model)\n",
    "initial_parameters = ndarrays_to_parameters(weights)\n",
    "\n",
    "FedStrat = get_strategy_class(strategy_name)\n",
    "\n",
    "# Define strategy\n",
    "strategy = FedStrat(\n",
    "    fraction_fit=fraction_fit,\n",
    "    fraction_evaluate=0.0,\n",
    "    initial_parameters=initial_parameters,\n",
    "    evaluate_fn=get_evaluate_fn(model, device, model_checkpoint, ds_path, ds_name),\n",
    ")\n",
    "config = ServerConfig(num_rounds=total_rounds)"
   ]
  },
  {
   "cell_type": "code",
   "execution_count": 11,
   "id": "f4600de0-3f73-46ea-8032-4f98d5281d7e",
   "metadata": {
    "tags": []
   },
   "outputs": [],
   "source": [
    "from flwr.server import start_server"
   ]
  },
  {
   "cell_type": "code",
   "execution_count": null,
   "id": "d1e9791b-61fe-4596-b01c-f6a335955557",
   "metadata": {},
   "outputs": [
    {
     "name": "stderr",
     "output_type": "stream",
     "text": [
      "\u001b[93mWARNING \u001b[0m:   DEPRECATED FEATURE: flwr.server.start_server() is deprecated.\n",
      "\tInstead, use the `flower-superlink` CLI command to start a SuperLink as shown below:\n",
      "\n",
      "\t\t$ flower-superlink --insecure\n",
      "\n",
      "\tTo view usage and all available options, run:\n",
      "\n",
      "\t\t$ flower-superlink --help\n",
      "\n",
      "\tUsing `start_server()` is deprecated.\n",
      "\n",
      "            This is a deprecated feature. It will be removed\n",
      "            entirely in future versions of Flower.\n",
      "        \n",
      "\u001b[92mINFO \u001b[0m:      Starting Flower server, config: num_rounds=100, no round_timeout\n",
      "\u001b[92mINFO \u001b[0m:      Flower ECE: gRPC server running (100 rounds), SSL is disabled\n",
      "\u001b[92mINFO \u001b[0m:      [INIT]\n",
      "\u001b[92mINFO \u001b[0m:      Using initial global parameters provided by strategy\n",
      "\u001b[92mINFO \u001b[0m:      Starting evaluation of initial global parameters\n",
      "\u001b[92mINFO \u001b[0m:      initial parameters (loss, other metrics): 0.6774400601200029, {'accuracy': 0.6446078431372549, 'f1': 0.7687400318979266, 'testing_loss': 0.6774400601200029}\n",
      "\u001b[92mINFO \u001b[0m:      \n",
      "\u001b[92mINFO \u001b[0m:      [ROUND 1]\n"
     ]
    }
   ],
   "source": [
    "start_server(\n",
    "    server_address=\"[::]:8081\",\n",
    "    config=config,\n",
    "    strategy=strategy\n",
    ")"
   ]
  },
  {
   "cell_type": "code",
   "execution_count": null,
   "id": "7cfe9ce3-409d-4e9a-8be8-b92b28f47c2a",
   "metadata": {},
   "outputs": [],
   "source": []
  },
  {
   "cell_type": "markdown",
   "id": "5441abe5-bc49-4db3-91f2-096870f0f080",
   "metadata": {},
   "source": [
    "# Start Client"
   ]
  },
  {
   "cell_type": "code",
   "execution_count": null,
   "id": "437e41ec-e41f-4629-85cb-fee0bf8fb6f0",
   "metadata": {},
   "outputs": [],
   "source": []
  },
  {
   "cell_type": "code",
   "execution_count": 1,
   "id": "5db2be89-632a-4f05-999e-e9ea10847fd2",
   "metadata": {},
   "outputs": [],
   "source": [
    "from functools import partial"
   ]
  },
  {
   "cell_type": "code",
   "execution_count": 2,
   "id": "ab90aad8-d2ce-46b3-a4bd-4ed8cf249e0e",
   "metadata": {
    "tags": []
   },
   "outputs": [],
   "source": [
    "def f(x, y):\n",
    "    return x + y"
   ]
  },
  {
   "cell_type": "code",
   "execution_count": 3,
   "id": "d2fa78a3-4a75-4a2f-85f6-5e0260e3094c",
   "metadata": {
    "tags": []
   },
   "outputs": [],
   "source": [
    "g = partial(f, y=3)"
   ]
  },
  {
   "cell_type": "code",
   "execution_count": 4,
   "id": "2e08550b-af45-4932-aef2-2e9c58303c6f",
   "metadata": {
    "tags": []
   },
   "outputs": [
    {
     "data": {
      "text/plain": [
       "4"
      ]
     },
     "execution_count": 4,
     "metadata": {},
     "output_type": "execute_result"
    }
   ],
   "source": [
    "g(1)"
   ]
  },
  {
   "cell_type": "code",
   "execution_count": null,
   "id": "db62f764-e876-4f35-8f7d-6bbbd35af4ed",
   "metadata": {},
   "outputs": [],
   "source": []
  },
  {
   "cell_type": "code",
   "execution_count": null,
   "id": "2b97a49c-619b-498f-9d7f-1c0da18736b8",
   "metadata": {},
   "outputs": [],
   "source": []
  },
  {
   "cell_type": "code",
   "execution_count": null,
   "id": "2a60e575-ec0b-47b0-a6f9-50e8ae0b2f66",
   "metadata": {},
   "outputs": [],
   "source": []
  },
  {
   "cell_type": "code",
   "execution_count": 1,
   "id": "5b2bec43-62f9-466a-93bf-e037ce9b61a8",
   "metadata": {
    "tags": []
   },
   "outputs": [],
   "source": [
    "from confluent_kafka import Consumer, KafkaError\n",
    "import subprocess\n",
    "import json"
   ]
  },
  {
   "cell_type": "code",
   "execution_count": 5,
   "id": "ff9e38d2-a6c4-4f8a-b8b1-c576be45cfba",
   "metadata": {
    "tags": []
   },
   "outputs": [],
   "source": [
    "def kafka_get_test_hyper_parameters(topic='FedL', bootstrap_servers='localhost:9092', group_id='fda'):\n",
    "    from confluent_kafka import Consumer, KafkaError\n",
    "\n",
    "    # Consumer example\n",
    "    c = Consumer({\n",
    "        'bootstrap.servers': bootstrap_servers,\n",
    "        'group.id': group_id,\n",
    "        'auto.offset.reset': 'latest'\n",
    "    })\n",
    "\n",
    "    c.subscribe([topic])\n",
    "\n",
    "    while True:\n",
    "        msg = c.poll(1.0)\n",
    "        if not msg:\n",
    "            continue\n",
    "        if msg.error():\n",
    "            if msg.error().code() == KafkaError._PARTITION_EOF:\n",
    "                continue\n",
    "            else:\n",
    "                print(msg.error())\n",
    "                break\n",
    "        val = msg.value().decode(\"utf-8\")\n",
    "\n",
    "        # Parse the JSON string back into a Python data structure\n",
    "        parameters = json.loads(val)\n",
    "\n",
    "        c.close()\n",
    "\n",
    "        return parameters"
   ]
  },
  {
   "cell_type": "code",
   "execution_count": 6,
   "id": "ecd01b26-392f-4203-8c59-598f5eba60ab",
   "metadata": {
    "tags": []
   },
   "outputs": [
    {
     "data": {
      "text/plain": [
       "{'checkpoint': 'roberta-base',\n",
       " 'ds_path': 'glue',\n",
       " 'ds_name': 'sst2',\n",
       " 'num_labels': 2,\n",
       " 'num_clients': 100,\n",
       " 'clients_per_round': 10,\n",
       " 'alpha': 1.0,\n",
       " 'batch_size': 8,\n",
       " 'local_epochs': 3,\n",
       " 'max_epochs': -1,\n",
       " 'total_rounds': 200,\n",
       " 'fda': False,\n",
       " 'theta': 0.0,\n",
       " 'extras': '',\n",
       " 'server_opt_name': 'Adam',\n",
       " 'server_opt_lr': 0.0001,\n",
       " 'client_opt_name': 'SGD',\n",
       " 'client_opt_lr': 0.0001}"
      ]
     },
     "execution_count": 6,
     "metadata": {},
     "output_type": "execute_result"
    }
   ],
   "source": [
    "kafka_get_test_hyper_parameters()"
   ]
  },
  {
   "cell_type": "code",
   "execution_count": null,
   "id": "bbd254d4-4e2d-4d20-af51-73e8e495f87d",
   "metadata": {},
   "outputs": [],
   "source": []
  }
 ],
 "metadata": {
  "kernelspec": {
   "display_name": "Python [conda env:flower]",
   "language": "python",
   "name": "conda-env-flower-py"
  },
  "language_info": {
   "codemirror_mode": {
    "name": "ipython",
    "version": 3
   },
   "file_extension": ".py",
   "mimetype": "text/x-python",
   "name": "python",
   "nbconvert_exporter": "python",
   "pygments_lexer": "ipython3",
   "version": "3.10.16"
  }
 },
 "nbformat": 4,
 "nbformat_minor": 5
}
