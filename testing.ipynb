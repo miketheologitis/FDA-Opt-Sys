{
 "cells": [
  {
   "cell_type": "code",
   "execution_count": 8,
   "id": "03a28a77-2061-476c-a98d-03ca61770d36",
   "metadata": {},
   "outputs": [],
   "source": [
    "import socket\n",
    "\n",
    "def is_port_in_use(host: str, port: int) -> bool:\n",
    "    with socket.socket(socket.AF_INET, socket.SOCK_STREAM) as s:\n",
    "        return s.connect_ex((host, port)) == 0"
   ]
  },
  {
   "cell_type": "code",
   "execution_count": 42,
   "id": "3e9ae702-b364-4411-b0d6-194fb60f7110",
   "metadata": {
    "tags": []
   },
   "outputs": [
    {
     "data": {
      "text/plain": [
       "False"
      ]
     },
     "execution_count": 42,
     "metadata": {},
     "output_type": "execute_result"
    }
   ],
   "source": [
    "is_port_in_use(\"localhost\", 8085)"
   ]
  },
  {
   "cell_type": "code",
   "execution_count": 11,
   "id": "11794ee2-a789-4756-b7b3-ce5f9f711da0",
   "metadata": {
    "tags": []
   },
   "outputs": [],
   "source": [
    "import json"
   ]
  },
  {
   "cell_type": "code",
   "execution_count": 43,
   "id": "56687e2d-891f-4304-9c81-0162bf1128fc",
   "metadata": {
    "tags": []
   },
   "outputs": [],
   "source": [
    "with open('hyperparameters/test_8083.json', 'rb') as f:\n",
    "    x = json.load(f)"
   ]
  },
  {
   "cell_type": "code",
   "execution_count": 51,
   "id": "d460b14d-b7a1-4c27-adc0-16e84b69109b",
   "metadata": {
    "tags": []
   },
   "outputs": [],
   "source": [
    "port = 8085"
   ]
  },
  {
   "cell_type": "code",
   "execution_count": 52,
   "id": "b2776233-e173-42c6-a108-ba415d97f69c",
   "metadata": {
    "tags": []
   },
   "outputs": [],
   "source": [
    "x['server']['network']['ip'] = 'localhost'\n",
    "x['server']['network']['port'] = port"
   ]
  },
  {
   "cell_type": "code",
   "execution_count": 53,
   "id": "ee44bfb8-198b-4472-b6f4-00256ae000fa",
   "metadata": {
    "tags": []
   },
   "outputs": [],
   "source": [
    "with open(f'hyperparameters/test_{port}.json', 'w', encoding='utf-8') as f:\n",
    "    json.dump(x, f, ensure_ascii=False)"
   ]
  },
  {
   "cell_type": "code",
   "execution_count": null,
   "id": "178da18f-40a6-4c43-b94a-ba3c88f0deb3",
   "metadata": {},
   "outputs": [],
   "source": []
  },
  {
   "cell_type": "code",
   "execution_count": null,
   "id": "780ac56d-b623-49c6-9d0c-2dceacb6241d",
   "metadata": {},
   "outputs": [],
   "source": []
  },
  {
   "cell_type": "code",
   "execution_count": null,
   "id": "d7daa126-5bd9-427e-bfb7-778f3501c730",
   "metadata": {},
   "outputs": [],
   "source": []
  },
  {
   "cell_type": "code",
   "execution_count": null,
   "id": "f662631e-3bf4-4e34-9cbb-44fe9469f917",
   "metadata": {},
   "outputs": [],
   "source": []
  }
 ],
 "metadata": {
  "kernelspec": {
   "display_name": "Python 3 (ipykernel)",
   "language": "python",
   "name": "python3"
  },
  "language_info": {
   "codemirror_mode": {
    "name": "ipython",
    "version": 3
   },
   "file_extension": ".py",
   "mimetype": "text/x-python",
   "name": "python",
   "nbconvert_exporter": "python",
   "pygments_lexer": "ipython3",
   "version": "3.11.4"
  }
 },
 "nbformat": 4,
 "nbformat_minor": 5
}
