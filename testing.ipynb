{
 "cells": [
  {
   "cell_type": "code",
   "execution_count": 1,
   "id": "616bf95f-09ea-4348-b8c3-03d7734d9bb8",
   "metadata": {
    "tags": []
   },
   "outputs": [],
   "source": [
    "import zmq\n",
    "import numpy as np\n",
    "import threading\n",
    "\n",
    "import zmq\n",
    "import numpy as np\n",
    "\n",
    "def create_push_socket(ip, port):\n",
    "    context = zmq.Context()\n",
    "    socket = context.socket(zmq.PUSH)\n",
    "    socket.connect(f\"tcp://{ip}:{port}\")\n",
    "    \n",
    "    return socket\n",
    "\n",
    "def create_pull_socket(ip, port):\n",
    "    context = zmq.Context()\n",
    "    socket = context.socket(zmq.PULL)\n",
    "    socket.bind(f\"tcp://{ip}:{port}\")\n",
    "    \n",
    "    return socket\n",
    "\n",
    "def send_number_matrix(push_socket, number, matrix):\n",
    "\n",
    "    msg = {\"number\": number, \"matrix\": matrix.tolist()}\n",
    "\n",
    "    push_socket.send_json(msg)\n",
    "    \n",
    "def receive_number(pull_socket):\n",
    "    msg = pull_socket.recv_json()\n",
    "    \n",
    "    return float(msg[\"number\"])\n",
    "    \n",
    "    \n",
    "def aggregate_numbers_matrices(pull_socket, n):\n",
    "    local_matrices = []\n",
    "    local_numbers = []\n",
    "\n",
    "    for _ in range(n):\n",
    "        msg = pull_socket.recv_json()\n",
    "        matrix = np.array(msg[\"matrix\"])\n",
    "        number = float(msg[\"number\"])\n",
    "        local_matrices.append(matrix)\n",
    "        local_numbers.append(number)\n",
    "\n",
    "    mean_matrix = np.mean(local_matrices, axis=0)\n",
    "    mean_number = np.mean(local_numbers)\n",
    "\n",
    "    return mean_number, mean_matrix\n",
    "\n",
    "def start_aggregation_loop(pull_socket, n, callback):\n",
    "    def loop():\n",
    "        while True:\n",
    "            result = aggregate_numbers_matrices(pull_socket, n)\n",
    "            callback(result)\n",
    "\n",
    "    t = threading.Thread(target=loop, daemon=True)\n",
    "    t.start()\n",
    "    \n",
    "    \n",
    "def on_aggregated(result):\n",
    "    # TODO: Send back!\n",
    "    mean_number, mean_matrix = result\n",
    "    print(\"Aggregation complete\")\n",
    "    print(\"Mean number:\", mean_number)\n",
    "    print(\"Mean matrix:\\n\", mean_matrix)"
   ]
  },
  {
   "cell_type": "code",
   "execution_count": 2,
   "id": "f215d1ca-0d6f-43cd-bdc3-fca6024f2e44",
   "metadata": {
    "tags": []
   },
   "outputs": [],
   "source": [
    "push = create_push_socket('localhost', 9205)"
   ]
  },
  {
   "cell_type": "code",
   "execution_count": null,
   "id": "b01b6a66-2c33-4701-8d4d-aaee11f40708",
   "metadata": {},
   "outputs": [],
   "source": []
  },
  {
   "cell_type": "code",
   "execution_count": 8,
   "id": "f1dce4a7-3357-4695-a2f3-208b530f3d47",
   "metadata": {
    "tags": []
   },
   "outputs": [],
   "source": [
    "send_number_matrix(push, 4., np.random.rand(1,2))"
   ]
  },
  {
   "cell_type": "code",
   "execution_count": null,
   "id": "ed1e7166-32c0-427d-b602-477b28be821e",
   "metadata": {},
   "outputs": [],
   "source": []
  },
  {
   "cell_type": "code",
   "execution_count": null,
   "id": "ddff7ca5-cff2-424e-ad46-77ba8c0db09e",
   "metadata": {},
   "outputs": [],
   "source": []
  },
  {
   "cell_type": "code",
   "execution_count": null,
   "id": "cee78668-d124-41b4-a0b2-1b00f57cff09",
   "metadata": {},
   "outputs": [],
   "source": []
  },
  {
   "cell_type": "code",
   "execution_count": null,
   "id": "0a165025-5ff0-4cfd-8596-55ec664d3a71",
   "metadata": {},
   "outputs": [],
   "source": []
  },
  {
   "cell_type": "code",
   "execution_count": 2,
   "id": "71bc3b3f-f8f6-4e67-8bf1-94f6d7646eed",
   "metadata": {
    "tags": []
   },
   "outputs": [],
   "source": [
    "import json"
   ]
  },
  {
   "cell_type": "code",
   "execution_count": 3,
   "id": "22a791fd-07c4-439e-a0f4-2fc24c5e6f7d",
   "metadata": {
    "tags": []
   },
   "outputs": [],
   "source": [
    "with open('hyperparameters/test_1.json') as f:\n",
    "    x = json.load(f)"
   ]
  },
  {
   "cell_type": "code",
   "execution_count": null,
   "id": "065e881d-62f9-4d84-b680-c2ce17e76386",
   "metadata": {},
   "outputs": [],
   "source": []
  },
  {
   "cell_type": "code",
   "execution_count": null,
   "id": "5d7f6d11-44d1-466f-97d1-0e2b91bfcd58",
   "metadata": {},
   "outputs": [],
   "source": []
  },
  {
   "cell_type": "code",
   "execution_count": 4,
   "id": "c3e38a25-4c5f-4afd-8942-b48a29627b10",
   "metadata": {
    "tags": []
   },
   "outputs": [],
   "source": [
    "import pprint"
   ]
  },
  {
   "cell_type": "code",
   "execution_count": 5,
   "id": "eb019ce4-557d-4333-89df-80eaebee93ce",
   "metadata": {
    "tags": []
   },
   "outputs": [
    {
     "name": "stdout",
     "output_type": "stream",
     "text": [
      "{'clients': {'lr': 0.001,\n",
      "             'network': [{'data_path': '/home/mtheologitis/FDA-Opt-Sys/data/glue/mrpc/c2_0.pth',\n",
      "                          'id': 0,\n",
      "                          'ip': 'localhost',\n",
      "                          'port': 9200},\n",
      "                         {'data_path': '/home/mtheologitis/FDA-Opt-Sys/data/glue/mrpc/c2_1.pth',\n",
      "                          'id': 1,\n",
      "                          'ip': 'localhost',\n",
      "                          'port': 9201}]},\n",
      " 'dataset': {'batch_size': 8,\n",
      "             'dirichlet_alpha': 1,\n",
      "             'name': 'mrpc',\n",
      "             'path': 'glue'},\n",
      " 'model': {'checkpoint': 'prajjwal1/bert-tiny', 'num_labels': 2},\n",
      " 'server': {'network': {'ip': 'localhost',\n",
      "                        'ip_pull_socket': 'localhost',\n",
      "                        'port': 8083,\n",
      "                        'port_pull_socket': 9101},\n",
      "            'strategy': {'eta': 0.0001, 'fda': True, 'name': 'FedAdam'}},\n",
      " 'training': {'clients_per_round': 2,\n",
      "              'local_epochs': 1,\n",
      "              'num_clients': 2,\n",
      "              'total_rounds': 100}}\n"
     ]
    }
   ],
   "source": [
    "pprint.pprint(x)"
   ]
  },
  {
   "cell_type": "code",
   "execution_count": 7,
   "id": "7024521e-df73-46ee-a96e-a7731711cb72",
   "metadata": {
    "tags": []
   },
   "outputs": [],
   "source": [
    "x['clients']['network'][0]['port'] = 9199"
   ]
  },
  {
   "cell_type": "code",
   "execution_count": null,
   "id": "cd86f6f5-591a-4377-bc04-c71863a72491",
   "metadata": {},
   "outputs": [],
   "source": [
    "9199"
   ]
  },
  {
   "cell_type": "code",
   "execution_count": null,
   "id": "34487b5b-58fb-472a-bec3-0f725ce43727",
   "metadata": {},
   "outputs": [],
   "source": []
  },
  {
   "cell_type": "code",
   "execution_count": null,
   "id": "9254ddf9-e36d-4d6f-b0db-b8bed71cee3d",
   "metadata": {},
   "outputs": [],
   "source": []
  },
  {
   "cell_type": "code",
   "execution_count": 8,
   "id": "9e020dcd-049e-4f2d-89fc-4546d271e2f5",
   "metadata": {
    "tags": []
   },
   "outputs": [],
   "source": [
    "with open('hyperparameters/test_1.json', 'w', encoding='utf-8') as f:\n",
    "    json.dump(x, f, ensure_ascii=False)"
   ]
  },
  {
   "cell_type": "code",
   "execution_count": null,
   "id": "9535a56f-5453-4248-9a87-6849e4599d58",
   "metadata": {},
   "outputs": [],
   "source": []
  }
 ],
 "metadata": {
  "kernelspec": {
   "display_name": "Python [conda env:flower]",
   "language": "python",
   "name": "conda-env-flower-py"
  },
  "language_info": {
   "codemirror_mode": {
    "name": "ipython",
    "version": 3
   },
   "file_extension": ".py",
   "mimetype": "text/x-python",
   "name": "python",
   "nbconvert_exporter": "python",
   "pygments_lexer": "ipython3",
   "version": "3.10.16"
  }
 },
 "nbformat": 4,
 "nbformat_minor": 5
}
