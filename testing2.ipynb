{
 "cells": [
  {
   "cell_type": "code",
   "execution_count": null,
   "id": "9b035ba6-81d1-47e6-8a24-6fa8047020c6",
   "metadata": {},
   "outputs": [],
   "source": [
    "import zmq\n",
    "import numpy as np\n",
    "import threading\n",
    "\n",
    "import zmq\n",
    "import numpy as np\n",
    "\n",
    "def create_push_socket(ip, port):\n",
    "    context = zmq.Context()\n",
    "    socket = context.socket(zmq.PUSH)\n",
    "    socket.connect(f\"tcp://{ip}:{port}\")\n",
    "    \n",
    "    return socket\n",
    "\n",
    "def create_pull_socket(ip, port):\n",
    "    context = zmq.Context()\n",
    "    socket = context.socket(zmq.PULL)\n",
    "    socket.bind(f\"tcp://{ip}:{port}\")\n",
    "    \n",
    "    return socket\n",
    "\n",
    "def send_number_matrix(push_socket, number, matrix):\n",
    "\n",
    "    msg = {\"number\": number, \"matrix\": matrix.tolist()}\n",
    "\n",
    "    push_socket.send_json(msg)\n",
    "    \n",
    "def receive_number(pull_socket):\n",
    "    msg = pull_socket.recv_json()\n",
    "    \n",
    "    return float(msg[\"number\"])\n",
    "    \n",
    "    \n",
    "def aggregate_numbers_matrices(pull_socket, n):\n",
    "    local_matrices = []\n",
    "    local_numbers = []\n",
    "\n",
    "    for _ in range(n):\n",
    "        msg = pull_socket.recv_json()\n",
    "        matrix = np.array(msg[\"matrix\"])\n",
    "        number = float(msg[\"number\"])\n",
    "        local_matrices.append(matrix)\n",
    "        local_numbers.append(number)\n",
    "\n",
    "    mean_matrix = np.mean(local_matrices, axis=0)\n",
    "    mean_number = np.mean(local_numbers)\n",
    "\n",
    "    return mean_number, mean_matrix\n",
    "\n",
    "def start_aggregation_loop(pull_socket, n, callback):\n",
    "    def loop():\n",
    "        while True:\n",
    "            result = aggregate_numbers_matrices(pull_socket, n)\n",
    "            callback(result)\n",
    "\n",
    "    t = threading.Thread(target=loop, daemon=True)\n",
    "    t.start()\n",
    "    \n",
    "    \n",
    "def on_aggregated(result):\n",
    "    # TODO: Send back!\n",
    "    mean_number, mean_matrix = result\n",
    "    print(\"Aggregation complete\")\n",
    "    print(\"Mean number:\", mean_number)\n",
    "    print(\"Mean matrix:\\n\", mean_matrix)"
   ]
  },
  {
   "cell_type": "code",
   "execution_count": null,
   "id": "48cd4128-0cca-44e2-b5d1-c8fcbc82131c",
   "metadata": {},
   "outputs": [],
   "source": []
  },
  {
   "cell_type": "code",
   "execution_count": null,
   "id": "2ca66323-e58b-469a-9756-8f8706451d7c",
   "metadata": {},
   "outputs": [],
   "source": []
  },
  {
   "cell_type": "code",
   "execution_count": null,
   "id": "71387a06-3b9c-43df-9ceb-aac64cc10eb1",
   "metadata": {},
   "outputs": [],
   "source": []
  },
  {
   "cell_type": "code",
   "execution_count": null,
   "id": "6e0f597f-617e-4343-bd4e-4add7a2bfece",
   "metadata": {},
   "outputs": [],
   "source": []
  },
  {
   "cell_type": "code",
   "execution_count": 5,
   "id": "4e82da69-7cd1-43f5-a42b-ee50e10a2bea",
   "metadata": {
    "tags": []
   },
   "outputs": [
    {
     "name": "stdout",
     "output_type": "stream",
     "text": [
      "Aggregation complete\n",
      "Mean number: 2.0\n",
      "Mean matrix:\n",
      " [[0.30453645 0.81297287]]\n",
      "Aggregation complete\n",
      "Mean number: 3.0\n",
      "Mean matrix:\n",
      " [[0.51056123 0.59371875]]\n",
      "Aggregation complete\n",
      "Mean number: 4.0\n",
      "Mean matrix:\n",
      " [[0.40571598 0.69017968]]\n"
     ]
    }
   ],
   "source": [
    "pull_socket = create_pull_socket('localhost', 9205)\n",
    "start_aggregation_loop(pull_socket, n=2, callback=on_aggregated)"
   ]
  },
  {
   "cell_type": "code",
   "execution_count": null,
   "id": "08521309-833b-4e69-89cf-e8035943d817",
   "metadata": {},
   "outputs": [],
   "source": []
  },
  {
   "cell_type": "code",
   "execution_count": null,
   "id": "16113ff2-f3d8-4189-993f-9960063f7ec0",
   "metadata": {},
   "outputs": [],
   "source": []
  },
  {
   "cell_type": "code",
   "execution_count": null,
   "id": "a25b83bc-7c13-4662-9cb9-fa3b619d41a2",
   "metadata": {},
   "outputs": [],
   "source": []
  },
  {
   "cell_type": "code",
   "execution_count": 2,
   "id": "56f1e21f-b406-44b0-bead-05c95b9fd8c2",
   "metadata": {
    "tags": []
   },
   "outputs": [],
   "source": [
    "pull = create_pull_socket('localhost', 9205)"
   ]
  },
  {
   "cell_type": "code",
   "execution_count": 3,
   "id": "97e6e5e6-8882-43b2-991d-9215798f8941",
   "metadata": {
    "tags": []
   },
   "outputs": [
    {
     "data": {
      "text/plain": [
       "(np.float64(2.0), array([[0.56839408, 0.33640212]]))"
      ]
     },
     "execution_count": 3,
     "metadata": {},
     "output_type": "execute_result"
    }
   ],
   "source": [
    "aggregate_numbers_matrices(pull, 2)"
   ]
  },
  {
   "cell_type": "code",
   "execution_count": null,
   "id": "dbf11310-44f7-480e-b943-7f02e3dac998",
   "metadata": {},
   "outputs": [],
   "source": []
  },
  {
   "cell_type": "code",
   "execution_count": null,
   "id": "780ac56d-b623-49c6-9d0c-2dceacb6241d",
   "metadata": {},
   "outputs": [],
   "source": []
  },
  {
   "cell_type": "code",
   "execution_count": null,
   "id": "d7daa126-5bd9-427e-bfb7-778f3501c730",
   "metadata": {},
   "outputs": [],
   "source": []
  },
  {
   "cell_type": "code",
   "execution_count": null,
   "id": "f662631e-3bf4-4e34-9cbb-44fe9469f917",
   "metadata": {},
   "outputs": [],
   "source": []
  }
 ],
 "metadata": {
  "kernelspec": {
   "display_name": "Python [conda env:flower]",
   "language": "python",
   "name": "conda-env-flower-py"
  },
  "language_info": {
   "codemirror_mode": {
    "name": "ipython",
    "version": 3
   },
   "file_extension": ".py",
   "mimetype": "text/x-python",
   "name": "python",
   "nbconvert_exporter": "python",
   "pygments_lexer": "ipython3",
   "version": "3.10.16"
  }
 },
 "nbformat": 4,
 "nbformat_minor": 5
}
