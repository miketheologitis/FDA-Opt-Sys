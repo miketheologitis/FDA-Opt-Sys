{
 "cells": [
  {
   "cell_type": "code",
   "execution_count": 1,
   "id": "d05b39ec-abfb-4fc9-bc87-6966508b1512",
   "metadata": {
    "tags": []
   },
   "outputs": [],
   "source": [
    "from flwr.simulation import run_simulation"
   ]
  },
  {
   "cell_type": "code",
   "execution_count": 2,
   "id": "d419cfba-b117-4b0a-8bff-7bc8f144bfbc",
   "metadata": {
    "tags": []
   },
   "outputs": [],
   "source": [
    "from fdaopt.server import server_app\n",
    "from flwr.client import ClientApp"
   ]
  },
  {
   "cell_type": "code",
   "execution_count": 3,
   "id": "94dd75a5-26db-46f8-86b8-c15302776dd3",
   "metadata": {},
   "outputs": [],
   "source": [
    "from flwr.server import ServerApp\n",
    "from fdaopt.client import client_app"
   ]
  },
  {
   "cell_type": "code",
   "execution_count": null,
   "id": "7ed0fe14-ffdd-4203-b73c-e1e004ffea11",
   "metadata": {
    "tags": []
   },
   "outputs": [
    {
     "name": "stderr",
     "output_type": "stream",
     "text": [
      "\u001b[92mINFO \u001b[0m:      Starting Flower ServerApp, config: num_rounds=100, no round_timeout\n",
      "\u001b[92mINFO \u001b[0m:      \n",
      "\u001b[92mINFO \u001b[0m:      [INIT]\n",
      "\u001b[92mINFO \u001b[0m:      Using initial global parameters provided by strategy\n",
      "\u001b[92mINFO \u001b[0m:      Starting evaluation of initial global parameters\n",
      "\u001b[92mINFO \u001b[0m:      initial parameters (loss, other metrics): 0.7391822174483654, {'accuracy': 0.3137254901960784, 'f1': 0.0, 'testing_loss': 0.7391822174483654}\n",
      "\u001b[92mINFO \u001b[0m:      \n",
      "\u001b[92mINFO \u001b[0m:      [ROUND 1]\n",
      "\u001b[92mINFO \u001b[0m:      configure_fit: strategy sampled 5 clients (out of 10)\n",
      "\u001b[92mINFO \u001b[0m:      aggregate_fit: received 5 results and 0 failures\n",
      "\u001b[93mWARNING \u001b[0m:   No fit_metrics_aggregation_fn provided\n",
      "\u001b[92mINFO \u001b[0m:      fit progress: (1, 0.6311850191331377, {'accuracy': 0.6838235294117647, 'f1': 0.8122270742358079, 'testing_loss': 0.6311850191331377}, 57.22074284404516)\n",
      "\u001b[92mINFO \u001b[0m:      configure_evaluate: no clients selected, skipping evaluation\n",
      "\u001b[92mINFO \u001b[0m:      \n",
      "\u001b[92mINFO \u001b[0m:      [ROUND 2]\n",
      "\u001b[92mINFO \u001b[0m:      configure_fit: strategy sampled 5 clients (out of 10)\n",
      "\u001b[92mINFO \u001b[0m:      aggregate_fit: received 5 results and 0 failures\n",
      "\u001b[92mINFO \u001b[0m:      fit progress: (2, 1.6402154126405424, {'accuracy': 0.6838235294117647, 'f1': 0.8122270742358079, 'testing_loss': 1.6402154126405424}, 72.10719924420118)\n",
      "\u001b[92mINFO \u001b[0m:      configure_evaluate: no clients selected, skipping evaluation\n",
      "\u001b[92mINFO \u001b[0m:      \n",
      "\u001b[92mINFO \u001b[0m:      [ROUND 3]\n",
      "\u001b[92mINFO \u001b[0m:      configure_fit: strategy sampled 5 clients (out of 10)\n"
     ]
    }
   ],
   "source": [
    "run_simulation(\n",
    "    server_app=server_app,\n",
    "    client_app=client_app,\n",
    "    num_supernodes=10,\n",
    ")"
   ]
  },
  {
   "cell_type": "code",
   "execution_count": null,
   "id": "14f1d6cd-69ca-4c0e-8a58-43417e747698",
   "metadata": {},
   "outputs": [],
   "source": []
  },
  {
   "cell_type": "code",
   "execution_count": null,
   "id": "e282a0aa-9ec4-4d51-9d0c-d93c5573f127",
   "metadata": {},
   "outputs": [],
   "source": []
  },
  {
   "cell_type": "code",
   "execution_count": null,
   "id": "bef32d88-59d0-450e-b01a-003f3781ef93",
   "metadata": {},
   "outputs": [],
   "source": []
  },
  {
   "cell_type": "code",
   "execution_count": 2,
   "id": "30e60938-0aff-4d59-b657-388a45ed1def",
   "metadata": {
    "tags": []
   },
   "outputs": [
    {
     "data": {
      "text/plain": [
       "89.793"
      ]
     },
     "execution_count": 2,
     "metadata": {},
     "output_type": "execute_result"
    }
   ],
   "source": [
    "90.7 * 0.99"
   ]
  },
  {
   "cell_type": "code",
   "execution_count": null,
   "id": "a11ffa9f-887e-4b58-94b6-91d3a7f618a3",
   "metadata": {},
   "outputs": [],
   "source": []
  },
  {
   "cell_type": "code",
   "execution_count": null,
   "id": "aa9ad4a8-fab1-4d84-b3a1-0576b2337969",
   "metadata": {},
   "outputs": [],
   "source": []
  },
  {
   "cell_type": "code",
   "execution_count": null,
   "id": "5db2be89-632a-4f05-999e-e9ea10847fd2",
   "metadata": {},
   "outputs": [],
   "source": []
  },
  {
   "cell_type": "code",
   "execution_count": null,
   "id": "db62f764-e876-4f35-8f7d-6bbbd35af4ed",
   "metadata": {},
   "outputs": [],
   "source": []
  },
  {
   "cell_type": "code",
   "execution_count": null,
   "id": "2b97a49c-619b-498f-9d7f-1c0da18736b8",
   "metadata": {},
   "outputs": [],
   "source": []
  },
  {
   "cell_type": "code",
   "execution_count": null,
   "id": "2a60e575-ec0b-47b0-a6f9-50e8ae0b2f66",
   "metadata": {},
   "outputs": [],
   "source": []
  },
  {
   "cell_type": "code",
   "execution_count": 1,
   "id": "5b2bec43-62f9-466a-93bf-e037ce9b61a8",
   "metadata": {
    "tags": []
   },
   "outputs": [],
   "source": [
    "from confluent_kafka import Consumer, KafkaError\n",
    "import subprocess\n",
    "import json"
   ]
  },
  {
   "cell_type": "code",
   "execution_count": 5,
   "id": "ff9e38d2-a6c4-4f8a-b8b1-c576be45cfba",
   "metadata": {
    "tags": []
   },
   "outputs": [],
   "source": [
    "def kafka_get_test_hyper_parameters(topic='FedL', bootstrap_servers='localhost:9092', group_id='fda'):\n",
    "    from confluent_kafka import Consumer, KafkaError\n",
    "\n",
    "    # Consumer example\n",
    "    c = Consumer({\n",
    "        'bootstrap.servers': bootstrap_servers,\n",
    "        'group.id': group_id,\n",
    "        'auto.offset.reset': 'latest'\n",
    "    })\n",
    "\n",
    "    c.subscribe([topic])\n",
    "\n",
    "    while True:\n",
    "        msg = c.poll(1.0)\n",
    "        if not msg:\n",
    "            continue\n",
    "        if msg.error():\n",
    "            if msg.error().code() == KafkaError._PARTITION_EOF:\n",
    "                continue\n",
    "            else:\n",
    "                print(msg.error())\n",
    "                break\n",
    "        val = msg.value().decode(\"utf-8\")\n",
    "\n",
    "        # Parse the JSON string back into a Python data structure\n",
    "        parameters = json.loads(val)\n",
    "\n",
    "        c.close()\n",
    "\n",
    "        return parameters"
   ]
  },
  {
   "cell_type": "code",
   "execution_count": 6,
   "id": "ecd01b26-392f-4203-8c59-598f5eba60ab",
   "metadata": {
    "tags": []
   },
   "outputs": [
    {
     "data": {
      "text/plain": [
       "{'checkpoint': 'roberta-base',\n",
       " 'ds_path': 'glue',\n",
       " 'ds_name': 'sst2',\n",
       " 'num_labels': 2,\n",
       " 'num_clients': 100,\n",
       " 'clients_per_round': 10,\n",
       " 'alpha': 1.0,\n",
       " 'batch_size': 8,\n",
       " 'local_epochs': 3,\n",
       " 'max_epochs': -1,\n",
       " 'total_rounds': 200,\n",
       " 'fda': False,\n",
       " 'theta': 0.0,\n",
       " 'extras': '',\n",
       " 'server_opt_name': 'Adam',\n",
       " 'server_opt_lr': 0.0001,\n",
       " 'client_opt_name': 'SGD',\n",
       " 'client_opt_lr': 0.0001}"
      ]
     },
     "execution_count": 6,
     "metadata": {},
     "output_type": "execute_result"
    }
   ],
   "source": [
    "kafka_get_test_hyper_parameters()"
   ]
  },
  {
   "cell_type": "code",
   "execution_count": null,
   "id": "bbd254d4-4e2d-4d20-af51-73e8e495f87d",
   "metadata": {},
   "outputs": [],
   "source": []
  }
 ],
 "metadata": {
  "kernelspec": {
   "display_name": "Python [conda env:flower]",
   "language": "python",
   "name": "conda-env-flower-py"
  },
  "language_info": {
   "codemirror_mode": {
    "name": "ipython",
    "version": 3
   },
   "file_extension": ".py",
   "mimetype": "text/x-python",
   "name": "python",
   "nbconvert_exporter": "python",
   "pygments_lexer": "ipython3",
   "version": "3.10.16"
  }
 },
 "nbformat": 4,
 "nbformat_minor": 5
}
